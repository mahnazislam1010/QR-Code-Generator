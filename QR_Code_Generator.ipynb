{
  "nbformat": 4,
  "nbformat_minor": 0,
  "metadata": {
    "colab": {
      "name": "QR Code Generator.ipynb",
      "provenance": []
    },
    "kernelspec": {
      "name": "python3",
      "display_name": "Python 3"
    }
  },
  "cells": [
    {
      "cell_type": "code",
      "metadata": {
        "colab": {
          "base_uri": "https://localhost:8080/"
        },
        "id": "azTzQb4Hz8Qf",
        "outputId": "0b5f4346-a3f5-400b-bdcc-a5ca50d5aec6"
      },
      "source": [
        "pip install qrcode"
      ],
      "execution_count": 1,
      "outputs": [
        {
          "output_type": "stream",
          "text": [
            "Collecting qrcode\n",
            "  Downloading https://files.pythonhosted.org/packages/42/87/4a3a77e59ab7493d64da1f69bf1c2e899a4cf81e51b2baa855e8cc8115be/qrcode-6.1-py2.py3-none-any.whl\n",
            "Requirement already satisfied: six in /usr/local/lib/python3.6/dist-packages (from qrcode) (1.15.0)\n",
            "Installing collected packages: qrcode\n",
            "Successfully installed qrcode-6.1\n"
          ],
          "name": "stdout"
        }
      ]
    },
    {
      "cell_type": "code",
      "metadata": {
        "id": "rbRYyIC-0NT9"
      },
      "source": [
        "import qrcode"
      ],
      "execution_count": 2,
      "outputs": []
    },
    {
      "cell_type": "code",
      "metadata": {
        "id": "HW14749X0Rn1"
      },
      "source": [
        "img = qrcode.make(\"https://youtu.be/pcKR0LPwoYs\")  #Supply the string that you want to encode in qrcode\r\n",
        "img.save(\"My favorite song.jpg\") #and the qrcode image will be saved in the local directory"
      ],
      "execution_count": 3,
      "outputs": []
    },
    {
      "cell_type": "code",
      "metadata": {
        "colab": {
          "base_uri": "https://localhost:8080/"
        },
        "id": "y9w0a9xB1vdI",
        "outputId": "8fd7b314-89ba-4f52-fab0-5ea1b84f9ead"
      },
      "source": [
        "pip install opencv-python"
      ],
      "execution_count": 4,
      "outputs": [
        {
          "output_type": "stream",
          "text": [
            "Requirement already satisfied: opencv-python in /usr/local/lib/python3.6/dist-packages (4.1.2.30)\n",
            "Requirement already satisfied: numpy>=1.11.3 in /usr/local/lib/python3.6/dist-packages (from opencv-python) (1.19.5)\n"
          ],
          "name": "stdout"
        }
      ]
    },
    {
      "cell_type": "code",
      "metadata": {
        "colab": {
          "base_uri": "https://localhost:8080/"
        },
        "id": "bDAYj7U_149U",
        "outputId": "562c8d2f-f31d-411f-d52a-e69acd7ee1e0"
      },
      "source": [
        "import cv2\r\n",
        "d = cv2.QRCodeDetector()\r\n",
        "val,points,straight_qrcode = d.detectAndDecode(cv2.imread(\"My favorite song.jpg\"))\r\n",
        "print(val)  #get back the original string"
      ],
      "execution_count": 6,
      "outputs": [
        {
          "output_type": "stream",
          "text": [
            "https://youtu.be/pcKR0LPwoYs\n"
          ],
          "name": "stdout"
        }
      ]
    }
  ]
}